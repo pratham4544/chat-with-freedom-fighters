{
 "cells": [
  {
   "cell_type": "code",
   "execution_count": 1,
   "metadata": {},
   "outputs": [
    {
     "name": "stdout",
     "output_type": "stream",
     "text": [
      "/home/parth/Desktop/chat-with-freedom-fighters/research\n"
     ]
    }
   ],
   "source": [
    "!pwd"
   ]
  },
  {
   "cell_type": "code",
   "execution_count": 2,
   "metadata": {},
   "outputs": [],
   "source": [
    "import os"
   ]
  },
  {
   "cell_type": "code",
   "execution_count": 3,
   "metadata": {},
   "outputs": [
    {
     "name": "stdout",
     "output_type": "stream",
     "text": [
      "/home/parth/Desktop/chat-with-freedom-fighters\n"
     ]
    }
   ],
   "source": [
    "cd /home/parth/Desktop/chat-with-freedom-fighters/"
   ]
  },
  {
   "cell_type": "code",
   "execution_count": 4,
   "metadata": {},
   "outputs": [
    {
     "name": "stdout",
     "output_type": "stream",
     "text": [
      "/home/parth/Desktop/chat-with-freedom-fighters\n"
     ]
    }
   ],
   "source": [
    "!pwd"
   ]
  },
  {
   "cell_type": "code",
   "execution_count": 5,
   "metadata": {},
   "outputs": [],
   "source": [
    "# !pip install -r requirements.txt\n",
    "!pip install langchain-groq -q"
   ]
  },
  {
   "cell_type": "code",
   "execution_count": 4,
   "metadata": {},
   "outputs": [],
   "source": [
    "from src.helper import *\n",
    "\n",
    "llm = ResponseLLM()"
   ]
  },
  {
   "cell_type": "code",
   "execution_count": 5,
   "metadata": {},
   "outputs": [
    {
     "data": {
      "text/plain": [
       "'Dr. Babasaheb Ambedkar'"
      ]
     },
     "execution_count": 5,
     "metadata": {},
     "output_type": "execute_result"
    }
   ],
   "source": [
    "repo_name = os.listdir('temp/')\n",
    "repo_name=repo_name[0]\n",
    "repo_name"
   ]
  },
  {
   "cell_type": "code",
   "execution_count": 6,
   "metadata": {},
   "outputs": [],
   "source": [
    "ebook = f'temp/{repo_name}/'\n",
    "documents = llm.load_ebooks(ebooks=ebook)"
   ]
  },
  {
   "cell_type": "code",
   "execution_count": 7,
   "metadata": {},
   "outputs": [
    {
     "data": {
      "text/plain": [
       "31"
      ]
     },
     "execution_count": 7,
     "metadata": {},
     "output_type": "execute_result"
    }
   ],
   "source": [
    "len(documents)"
   ]
  },
  {
   "cell_type": "code",
   "execution_count": 8,
   "metadata": {},
   "outputs": [],
   "source": [
    "split_text = llm.split_text(documents=documents)"
   ]
  },
  {
   "cell_type": "code",
   "execution_count": 9,
   "metadata": {},
   "outputs": [
    {
     "data": {
      "text/plain": [
       "<langchain_community.vectorstores.faiss.FAISS at 0x7f700d5d2990>"
      ]
     },
     "execution_count": 9,
     "metadata": {},
     "output_type": "execute_result"
    }
   ],
   "source": [
    "embeddings = llm.create_embeddings(split_text=split_text, persona_name=repo_name)\n",
    "embeddings"
   ]
  },
  {
   "cell_type": "code",
   "execution_count": 10,
   "metadata": {},
   "outputs": [
    {
     "data": {
      "text/plain": [
       "'Here is a prompt:\\n\\n**Prompt:** \"Write a biographical essay on the life and legacy of Dr. Bhimrao Ramji Ambedkar, also known as Babasaheb Ambedkar, a pioneering Indian freedom fighter, social reformer, and architect of the Indian Constitution, who dedicated his life to fighting against social injustice, casteism, and inequality, and worked tirelessly to empower marginalized communities.\"\\n\\nThis prompt could elicit a response that covers various aspects of Dr. Ambedkar\\'s life, such as:\\n\\n* His early life and education\\n* His experiences with caste-based discrimination and how they shaped his worldview\\n* His role in the Indian freedom struggle and his relationships with other prominent leaders\\n* His contributions to the drafting of the Indian Constitution and his vision for a more equal society\\n* His efforts to promote social justice, education, and economic empowerment among marginalized communities\\n* His legacy and impact on modern Indian society and politics\\n\\nThe essay could also explore Dr. Ambedkar\\'s philosophical and ideological beliefs, such as his advocacy for Buddhism as a means of social liberation, and his critiques of Hinduism and the caste system.'"
      ]
     },
     "execution_count": 10,
     "metadata": {},
     "output_type": "execute_result"
    }
   ],
   "source": [
    "prompt = llm.prompt_generator(name='Dr. babasaheb amedkar')\n",
    "prompt\n"
   ]
  },
  {
   "cell_type": "code",
   "execution_count": null,
   "metadata": {},
   "outputs": [],
   "source": []
  }
 ],
 "metadata": {
  "kernelspec": {
   "display_name": "base",
   "language": "python",
   "name": "python3"
  },
  "language_info": {
   "codemirror_mode": {
    "name": "ipython",
    "version": 3
   },
   "file_extension": ".py",
   "mimetype": "text/x-python",
   "name": "python",
   "nbconvert_exporter": "python",
   "pygments_lexer": "ipython3",
   "version": "3.11.7"
  }
 },
 "nbformat": 4,
 "nbformat_minor": 2
}
